{
 "cells": [
  {
   "cell_type": "markdown",
   "id": "e20d8b68",
   "metadata": {},
   "source": [
    "# The Perfect Guess"
   ]
  },
  {
   "cell_type": "code",
   "execution_count": null,
   "id": "62a1c64b",
   "metadata": {},
   "outputs": [],
   "source": [
    "import random\n",
    "randNumber = random.randint(1,100)\n",
    "UserGuess = None\n",
    "guesses = 0\n",
    "\n",
    "while(UserGuess  != randNumber):\n",
    "\n",
    "    UserGuess = int(input(\"Enter your Guess: \"))\n",
    "    guesses += 1\n",
    "\n",
    "    if(UserGuess==randNumber):\n",
    "        print(\"Your Guess is right\")\n",
    "        \n",
    "    else:\n",
    "        if(UserGuess>randNumber):\n",
    "            print(\"YOu guessed is wromg! Enter a smaller number\")\n",
    "        else:\n",
    "            print(\"You guess is wrong! Enter the larger number\")\n",
    "\n",
    "print(f\"You guessed the number in {guesses} guesses\")"
   ]
  }
 ],
 "metadata": {
  "kernelspec": {
   "display_name": "Python 3 (ipykernel)",
   "language": "python",
   "name": "python3"
  },
  "language_info": {
   "codemirror_mode": {
    "name": "ipython",
    "version": 3
   },
   "file_extension": ".py",
   "mimetype": "text/x-python",
   "name": "python",
   "nbconvert_exporter": "python",
   "pygments_lexer": "ipython3",
   "version": "3.10.3"
  }
 },
 "nbformat": 4,
 "nbformat_minor": 5
}
