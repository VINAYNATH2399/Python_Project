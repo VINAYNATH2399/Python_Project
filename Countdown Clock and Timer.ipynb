{
 "cells": [
  {
   "cell_type": "markdown",
   "id": "96ffe1f2",
   "metadata": {},
   "source": [
    "# Countdown Clock and Timer"
   ]
  },
  {
   "cell_type": "code",
   "execution_count": 1,
   "id": "53a31a83",
   "metadata": {},
   "outputs": [
    {
     "name": "stdout",
     "output_type": "stream",
     "text": [
      "Enter the time in seconds:60\n",
      "Blast OFF!!!\n"
     ]
    }
   ],
   "source": [
    "import time\n",
    "def countdown(t):\n",
    "    while t:\n",
    "        mins,secs = divmod(t,60)\n",
    "        timer = '{:02d}:{:02d}'.format(mins,secs)\n",
    "        print(timer,end=\"\\r\")\n",
    "        time.sleep(1)\n",
    "        t -=1\n",
    "    print('Blast OFF!!!')\n",
    "t = input(\"Enter the time in seconds:\")\n",
    "countdown(int(t))"
   ]
  },
  {
   "cell_type": "code",
   "execution_count": null,
   "id": "8bd2dcac",
   "metadata": {},
   "outputs": [],
   "source": []
  },
  {
   "cell_type": "code",
   "execution_count": null,
   "id": "fcc6caf9",
   "metadata": {},
   "outputs": [],
   "source": []
  }
 ],
 "metadata": {
  "kernelspec": {
   "display_name": "Python 3 (ipykernel)",
   "language": "python",
   "name": "python3"
  },
  "language_info": {
   "codemirror_mode": {
    "name": "ipython",
    "version": 3
   },
   "file_extension": ".py",
   "mimetype": "text/x-python",
   "name": "python",
   "nbconvert_exporter": "python",
   "pygments_lexer": "ipython3",
   "version": "3.10.3"
  }
 },
 "nbformat": 4,
 "nbformat_minor": 5
}
