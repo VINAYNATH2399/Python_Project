{
 "cells": [
  {
   "cell_type": "markdown",
   "id": "a4a8cd41",
   "metadata": {},
   "source": [
    "#  Generating Password\n"
   ]
  },
  {
   "cell_type": "code",
   "execution_count": 1,
   "id": "980f3bff",
   "metadata": {},
   "outputs": [
    {
     "name": "stdout",
     "output_type": "stream",
     "text": [
      "Strong passsword=  2fT)R920NFOJ\n"
     ]
    }
   ],
   "source": [
    "import random\n",
    "max_length = 12\n",
    "\n",
    "digit = [\"0\",\"1\",\"2\",\"3\",\"4\",\"5\",\"6\",\"7\",\"8\",\"9\"]\n",
    "low_char = [\"a\",\"b\",\"c\",\"d\",\"e\",\"f\",\"g\",\"h\",\"i\",\"j\",\"k\",\"l\",\"m\",\"n\",\"o\",\"p\",\"q\",\"r\",\"s\",\"t\",\"u\",\"v\",\"w\",\"x\",\"y\",\"z\"]\n",
    "upper_char = [\"A\",\"B\",\"C\",\"D\",\"E\",\"F\",\"G\",\"H\",\"I\",\"J\",\"K\",\"L\",\"M\",\"N\",\"O\",\"P\",\"Q\",\"R\",\"S\",\"T\",\"U\",\"V\",\"W\",\"X\",\"Y\",\"Z\"]  \n",
    "symbol = [\"@\",\"#\",\"$\",\"%\",\"=\",\":\",\"?\",\".\",\"/\",\"!\",\"~\",\">\",\"*\",\"(\",\")\"]\n",
    "\n",
    "combined_list = digit + low_char + upper_char + symbol\n",
    "\n",
    "r_digit = random.choice(digit)\n",
    "r_low =  random.choice(low_char)\n",
    "r_upper =  random.choice(upper_char)\n",
    "r_symbol =  random.choice(symbol)\n",
    "\n",
    "temp_pass = r_digit + r_low + r_upper + r_symbol\n",
    "\n",
    "for x in range(max_length-4):\n",
    "    temp_pass = temp_pass + random.choice(combined_list)\n",
    "    \n",
    "password = \"\"\n",
    "for x in temp_pass:\n",
    "    password = password + x\n",
    "print(\"Strong passsword= \",password)    "
   ]
  },
  {
   "cell_type": "code",
   "execution_count": null,
   "id": "83fb62e9",
   "metadata": {},
   "outputs": [],
   "source": []
  }
 ],
 "metadata": {
  "kernelspec": {
   "display_name": "Python 3 (ipykernel)",
   "language": "python",
   "name": "python3"
  },
  "language_info": {
   "codemirror_mode": {
    "name": "ipython",
    "version": 3
   },
   "file_extension": ".py",
   "mimetype": "text/x-python",
   "name": "python",
   "nbconvert_exporter": "python",
   "pygments_lexer": "ipython3",
   "version": "3.10.3"
  }
 },
 "nbformat": 4,
 "nbformat_minor": 5
}
