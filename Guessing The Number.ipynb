{
 "cells": [
  {
   "cell_type": "markdown",
   "id": "f3baced3",
   "metadata": {},
   "source": [
    "#  Number Guessing"
   ]
  },
  {
   "cell_type": "code",
   "execution_count": 1,
   "id": "606c39db",
   "metadata": {},
   "outputs": [
    {
     "name": "stdout",
     "output_type": "stream",
     "text": [
      "____Guessing The NUmber____\n",
      "What is your name: chintu\n",
      "Guess any number(Hide): ········\n",
      "Guess same number from friend(Hide): ········\n",
      "Total is:  16\n",
      "_________________Now Game Is Strat_______________________\n",
      "I add any random number between 1 to 20: \n",
      "I add number is: 8\n",
      "Now Total is guess4: 24\n",
      "After divided by 2:  12.0\n",
      "After they i subtact the random number divide by 2\n",
      "Your guess number is: 8.0\n",
      "Play again(y/n):n\n",
      "Thank you\n"
     ]
    }
   ],
   "source": [
    "import random\n",
    "import getpass\n",
    "print(\"____Guessing The NUmber____\")\n",
    "name = input(\"What is your name: \")\n",
    "restart = \"y\"\n",
    "while restart in (\"y\",\"Y\"):\n",
    "    guess1 = int(getpass.getpass(prompt=\"Guess any number(Hide): \"))\n",
    "    guess2 = int(getpass.getpass(prompt=\"Guess same number from friend(Hide): \"))\n",
    "    print(\"Total is: \", guess1 + guess2)\n",
    "    print(\"_________________Now Game Is Strat_______________________\")\n",
    "    print(\"I add any random number between 1 to 20: \")\n",
    "    guess3 = random.randint(1,20)\n",
    "    print(\"I add number is:\",guess3)\n",
    "    guess4 = guess1 + guess2 + guess3\n",
    "    print(\"Now Total is guess4:\", guess4)\n",
    "    guess5 = guess4/2\n",
    "    print(\"After divided by 2: \", guess5)\n",
    "    guess6 = guess3/2\n",
    "    guess7 = guess5 - guess6\n",
    "    print(\"After they i subtact the random number divide by 2\")\n",
    "    print(\"Your guess number is:\", guess7)\n",
    "    resert = input(\"Play again(y/n):\")\n",
    "    if resert in ('n','N'):\n",
    "        print(\"Thank you\")\n",
    "        break\n",
    "    else:\n",
    "        resert = 'y'"
   ]
  },
  {
   "cell_type": "code",
   "execution_count": null,
   "id": "9ab971cb",
   "metadata": {},
   "outputs": [],
   "source": []
  }
 ],
 "metadata": {
  "kernelspec": {
   "display_name": "Python 3 (ipykernel)",
   "language": "python",
   "name": "python3"
  },
  "language_info": {
   "codemirror_mode": {
    "name": "ipython",
    "version": 3
   },
   "file_extension": ".py",
   "mimetype": "text/x-python",
   "name": "python",
   "nbconvert_exporter": "python",
   "pygments_lexer": "ipython3",
   "version": "3.10.3"
  }
 },
 "nbformat": 4,
 "nbformat_minor": 5
}
